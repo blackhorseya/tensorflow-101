{
 "cells": [
  {
   "cell_type": "code",
   "outputs": [
    {
     "name": "stdout",
     "output_type": "stream",
     "text": [
      "Python version: 3.10.13\n",
      "Python platform: macOS-14.2.1-arm64-arm-64bit\n",
      "\n",
      "TensorFlow version: 2.16.1\n",
      "TensorFlow GPU available: True\n",
      "GPU device name: /device:GPU:0\n"
     ]
    },
    {
     "name": "stderr",
     "output_type": "stream",
     "text": [
      "2024-04-10 11:31:58.796387: I tensorflow/core/common_runtime/pluggable_device/pluggable_device_factory.cc:305] Could not identify NUMA node of platform GPU ID 0, defaulting to 0. Your kernel may not have been built with NUMA support.\n",
      "2024-04-10 11:31:58.796407: I tensorflow/core/common_runtime/pluggable_device/pluggable_device_factory.cc:271] Created TensorFlow device (/device:GPU:0 with 0 MB memory) -> physical PluggableDevice (device: 0, name: METAL, pci bus id: <undefined>)\n",
      "2024-04-10 11:31:58.796466: I tensorflow/core/common_runtime/pluggable_device/pluggable_device_factory.cc:305] Could not identify NUMA node of platform GPU ID 0, defaulting to 0. Your kernel may not have been built with NUMA support.\n",
      "2024-04-10 11:31:58.796472: I tensorflow/core/common_runtime/pluggable_device/pluggable_device_factory.cc:271] Created TensorFlow device (/device:GPU:0 with 0 MB memory) -> physical PluggableDevice (device: 0, name: METAL, pci bus id: <undefined>)\n"
     ]
    }
   ],
   "source": [
    "import platform\n",
    "\n",
    "import tensorflow as tf\n",
    "\n",
    "print(f'Python version: {platform.python_version()}')\n",
    "print(f'Python platform: {platform.platform()}')\n",
    "print()\n",
    "print(f'TensorFlow version: {tf.__version__}')\n",
    "print(f'TensorFlow GPU available: {tf.test.is_gpu_available()}')\n",
    "print(f'GPU device name: {tf.test.gpu_device_name()}')"
   ],
   "metadata": {
    "collapsed": false,
    "ExecuteTime": {
     "end_time": "2024-04-10T03:31:58.797995Z",
     "start_time": "2024-04-10T03:31:58.795250Z"
    }
   },
   "id": "b552d3c0326899b3",
   "execution_count": 31
  }
 ],
 "metadata": {
  "kernelspec": {
   "display_name": "Python 3",
   "language": "python",
   "name": "python3"
  },
  "language_info": {
   "codemirror_mode": {
    "name": "ipython",
    "version": 2
   },
   "file_extension": ".py",
   "mimetype": "text/x-python",
   "name": "python",
   "nbconvert_exporter": "python",
   "pygments_lexer": "ipython2",
   "version": "2.7.6"
  }
 },
 "nbformat": 4,
 "nbformat_minor": 5
}
