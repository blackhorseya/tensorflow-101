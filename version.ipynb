{
 "cells": [
  {
   "cell_type": "code",
   "outputs": [
    {
     "name": "stdout",
     "output_type": "stream",
     "text": [
      "Python version: 3.10.13\n",
      "Python platform: macOS-14.2.1-arm64-arm-64bit\n"
     ]
    }
   ],
   "source": [
    "import platform\n",
    "import tensorflow as tf\n",
    "\n",
    "print(f'Python version: {platform.python_version()}')\n",
    "print(f'Python platform: {platform.platform()}')"
   ],
   "metadata": {
    "collapsed": false,
    "ExecuteTime": {
     "end_time": "2024-04-10T01:45:37.482479Z",
     "start_time": "2024-04-10T01:45:37.480134Z"
    }
   },
   "id": "b552d3c0326899b3",
   "execution_count": 2
  },
  {
   "cell_type": "code",
   "outputs": [],
   "source": [],
   "metadata": {
    "collapsed": false
   },
   "id": "d8254425930f7d77"
  }
 ],
 "metadata": {
  "kernelspec": {
   "display_name": "Python 3",
   "language": "python",
   "name": "python3"
  },
  "language_info": {
   "codemirror_mode": {
    "name": "ipython",
    "version": 2
   },
   "file_extension": ".py",
   "mimetype": "text/x-python",
   "name": "python",
   "nbconvert_exporter": "python",
   "pygments_lexer": "ipython2",
   "version": "2.7.6"
  }
 },
 "nbformat": 4,
 "nbformat_minor": 5
}
